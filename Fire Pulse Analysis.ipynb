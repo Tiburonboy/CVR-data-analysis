{
 "cells": [
  {
   "cell_type": "markdown",
   "metadata": {
    "collapsed": false
   },
   "source": [
    "# Introduction\n",
    "## Synopsis\n",
    "This notebook will read in fire pulse data for processing and analysis. \n",
    "\n",
    "## Description\n",
    "Fire pulse data taken from various tests will be processed and analyzed to show the similarity of the characteristics of fire pulse from the Navy Safety Fire Set fring into a LEEFI or CVR compared to the NAWC FTSA when firing into a CVR for qualification and acceptance testing. Six fire pulses will be analyzed.  All the fire pulses were taken at ambient temperature. These are:\n",
    "\n",
    "### FIRE 800V\n",
    "The highest stimulus successful fire pulse from the Neyer tests.\n",
    "\n",
    "### FIRE 720V\n",
    "The lowest stimulus successful fire pulse from the Neyer tests.\n",
    "\n",
    "### CP 1000V\n",
    "not sure\n",
    "\n",
    "### RING 1000V\n",
    "NSFS ring down into CVR\n",
    "\n",
    "### FTSA Fire Pulse\n",
    "A sample of the FTSA fire pulse taken during acceptance testing.\n"
   ]
  },
  {
   "cell_type": "markdown",
   "metadata": {
    "collapsed": false
   },
   "source": [
    "# Python code"
   ]
  },
  {
   "cell_type": "markdown",
   "metadata": {
    "collapsed": false
   },
   "source": [
    "## Load python libraries\n",
    "This notebook will analyze data from several fire pulses\n",
    "1. reads the following files:\n",
    "    - RING 1000V\n",
    "    - CP 1000V\n",
    "    - FIRE 720V\n",
    "    - FIRE 800V\n",
    "    - FTSA Fire Pulse\n",
    "2. Slices out the pertinate data <- maybe have the Plot fire pulse scripts save a pandas data frame.\n",
    "3. Stores data in a pandas frame and saves to disk"
   ]
  },
  {
   "cell_type": "code",
   "execution_count": 6,
   "metadata": {
    "collapsed": false
   },
   "outputs": [
   ],
   "source": [
    "import os\n",
    "import pandas as pd\n",
    "import numpy as np\n",
    "#from scipy.interpolate import interp1d\n",
    "from scipy.signal import savgol_filter\n",
    "import matplotlib.pyplot as plt"
   ]
  },
  {
   "cell_type": "markdown",
   "metadata": {
    "collapsed": false
   },
   "source": [
    "## Load fire pulse data from files"
   ]
  },
  {
   "cell_type": "code",
   "execution_count": 5,
   "metadata": {
    "collapsed": false
   },
   "outputs": [
   ],
   "source": [
    "# read CSV\n",
    "csv1 = pd.read_csv('TEST1 800V FIRE.csv', header=None, usecols=[3,4])"
   ]
  },
  {
   "cell_type": "markdown",
   "metadata": {
    "collapsed": false
   },
   "source": [
    "## Normalize and time align the data"
   ]
  },
  {
   "cell_type": "markdown",
   "metadata": {
    "collapsed": false
   },
   "source": [
    "## Plot the data"
   ]
  },
  {
   "cell_type": "markdown",
   "metadata": {
    "collapsed": false
   },
   "source": [
    "## Compare rise time and peak currents"
   ]
  },
  {
   "cell_type": "code",
   "execution_count": 0,
   "metadata": {
    "collapsed": false
   },
   "outputs": [
   ],
   "source": [
   ]
  },
  {
   "cell_type": "code",
   "execution_count": 7,
   "metadata": {
    "collapsed": false
   },
   "outputs": [
    {
     "data": {
      "text/plain": [
       "25000"
      ]
     },
     "execution_count": 7,
     "metadata": {
     },
     "output_type": "execute_result"
    }
   ],
   "source": [
    "len(csv1)"
   ]
  },
  {
   "cell_type": "code",
   "execution_count": 8,
   "metadata": {
    "collapsed": false
   },
   "outputs": [
   ],
   "source": [
    "time = csv1[3].values\n",
    "time = time.astype(float)\n",
    "voltage = csv1[4].values\n",
    "voltage = voltage.astype(float)"
   ]
  },
  {
   "cell_type": "code",
   "execution_count": 9,
   "metadata": {
    "collapsed": false
   },
   "outputs": [
    {
     "name": "stdout",
     "output_type": "stream",
     "text": [
      "number of points in the data set: 25,000\n",
      "peak voltage: 1.060\n"
     ]
    }
   ],
   "source": [
    "print('number of points in the data set: {:,d}'.format(len(voltage)))\n",
    "print('peak voltage: {:.3f}'.format(voltage.max()))"
   ]
  },
  {
   "cell_type": "markdown",
   "metadata": {
    "collapsed": false
   },
   "source": [
    "### Find the offset voltage.\n",
    "From the peak time t, find the averge from t-300 to t-200."
   ]
  },
  {
   "cell_type": "code",
   "execution_count": 5,
   "metadata": {
    "collapsed": false
   },
   "outputs": [
   ],
   "source": [
    "peak_index = voltage.argmax()\n",
    "start = peak_index-300\n",
    "end = peak_index-200\n",
    "x = time[start:end]\n",
    "y = voltage[start:end]\n",
    "offset= y.mean()\n",
    "print('voltage offset: {:.3f} volts'.format(offset))"
   ]
  },
  {
   "cell_type": "code",
   "execution_count": 6,
   "metadata": {
    "collapsed": false
   },
   "outputs": [
   ],
   "source": [
    "# plot base line data, pre pulse, with offset\n",
    "plt.plot(x,y,'ro', markersize=4)\n",
    "plt.xlabel('Time, nsec')\n",
    "plt.ylabel('Voltage')\n",
    "plt.legend(['data'], loc='best')\n",
    "plt.show()"
   ]
  },
  {
   "cell_type": "code",
   "execution_count": 7,
   "metadata": {
    "collapsed": false
   },
   "outputs": [
   ],
   "source": [
    "start = peak_index-200\n",
    "end = peak_index+700\n",
    "x = time[start:end]\n",
    "y = voltage[start:end]\n",
    "y -= offset  #remove the offset"
   ]
  },
  {
   "cell_type": "markdown",
   "metadata": {
    "collapsed": false
   },
   "source": [
    "A [Savitzky–Golay](https://en.wikipedia.org/wiki/Savitzky%E2%80%93Golay_filter) filter is a digital filter that can be applied to a set of digital data points for the purpose of smoothing the data, that is, to increase the signal-to-noise ratio without greatly distorting the signal. This is achieved, in a process known as convolution, by fitting successive sub-sets of adjacent data points with a low-degree polynomial by the method of linear least squares. When the data points are equally spaced, an analytical solution to the least-squares equations can be found, in the form of a single set of \"convolution coefficients\" that can be applied to all data sub-sets, to give estimates of the smoothed signal, (or derivatives of the smoothed signal) at the central point of each sub-set. The method, based on established mathematical procedures, was popularized by Abraham Savitzky and Marcel J. E. Golay who published tables of convolution coefficients for various polynomials and sub-set sizes in 1964."
   ]
  },
  {
   "cell_type": "code",
   "execution_count": 8,
   "metadata": {
    "collapsed": false
   },
   "outputs": [
   ],
   "source": [
    "ynew = savgol_filter(y, 51, 3)  # filter the data"
   ]
  },
  {
   "cell_type": "code",
   "execution_count": 9,
   "metadata": {
    "collapsed": false
   },
   "outputs": [
   ],
   "source": [
    "# plot the fire pulse\n",
    "plt.plot(x,y,'ro', markersize=1)\n",
    "plt.plot(x,ynew)\n",
    "plt.xlabel('Time, nsec')\n",
    "plt.ylabel('fire pulse, volts')\n",
    "plt.legend(['data','Savitzky–Golay curve fit'], loc='best')\n",
    "plt.show()"
   ]
  },
  {
   "cell_type": "markdown",
   "metadata": {
    "collapsed": false
   },
   "source": [
    "### find the following:\n",
    "1. peak voltage\n",
    "2. average pre pulse voltage level\n",
    "3. index of 90% of peak\n",
    "4. find 10% index\n",
    "5. calculate rise time\n",
    "6. calculate peak current"
   ]
  },
  {
   "cell_type": "code",
   "execution_count": 10,
   "metadata": {
    "collapsed": false
   },
   "outputs": [
   ],
   "source": [
    "peak = y.max()\n",
    "peak_index = y.argmax()+5\n",
    "print('peak voltage: {:.3f}'.format(peak))\n",
    "print('index of peak: {:.3f}'.format(peak_index))"
   ]
  },
  {
   "cell_type": "markdown",
   "metadata": {
    "collapsed": false
   },
   "source": [
    "#### limit data set to index of peak"
   ]
  },
  {
   "cell_type": "code",
   "execution_count": 11,
   "metadata": {
    "collapsed": false
   },
   "outputs": [
   ],
   "source": [
    "x1 = x[50:peak_index]-x[50]\n",
    "y1 = y[50:peak_index]\n",
    "\n",
    "# plot the fire pulse\n",
    "y1new = savgol_filter(y1, 51, 3)\n",
    "plt.plot(x1,y1,'ro', markersize=1)\n",
    "plt.plot(x1,y1new)\n",
    "plt.xlabel('Time, nsec')\n",
    "plt.ylabel('fire pulse, volts')\n",
    "plt.legend(['data','Savitzky–Golay curve fit'], loc='best')\n",
    "plt.show()"
   ]
  },
  {
   "cell_type": "markdown",
   "metadata": {
    "collapsed": false
   },
   "source": [
    "#### find rise time"
   ]
  },
  {
   "cell_type": "code",
   "execution_count": 14,
   "metadata": {
    "collapsed": false
   },
   "outputs": [
   ],
   "source": [
    "index_90pc = (np.abs(y1new-y1new.max()*0.9)).argmin()\n",
    "index_10pc = (np.abs(y1new-y1new.max()*0.1)).argmin()\n",
    "rise_time = x1[index_90pc]-x1[index_10pc]\n",
    "\n",
    "print('peak voltage value: {:.3f} volts'.format(y1new.max()))\n",
    "print('90% voltage value: {:.3f} volts at {:.0f} ns'.format(y1new[index_90pc], x1[index_90pc]))\n",
    "print('10% voltage value: {:.3f} volts at {:.0f} ns'.format(y1new[index_10pc], x1[index_10pc]))\n",
    "print('rise time: {:.0f} ns'.format(rise_time))"
   ]
  },
  {
   "cell_type": "markdown",
   "metadata": {
    "collapsed": false
   },
   "source": [
    "#### plot the 90% and 10% data points"
   ]
  },
  {
   "cell_type": "code",
   "execution_count": 15,
   "metadata": {
    "collapsed": false
   },
   "outputs": [
   ],
   "source": [
    "# plot the fire pulse\n",
    "plt.plot(x1,y1,'ro', markersize=1)\n",
    "plt.plot(x1,y1new)\n",
    "plt.plot(x1[index_90pc],y1new[index_90pc],'X',markersize=15)  # 90% point\n",
    "plt.plot(x1[index_10pc],y1new[index_10pc],'X',markersize=15)  # 10% point\n",
    "plt.xlabel('Time, nsec')\n",
    "plt.ylabel('fire pulse, volts')\n",
    "plt.legend(['data','Savitzky–Golay curve fit','90%','10%'], loc='best')\n",
    "plt.show()"
   ]
  },
  {
   "cell_type": "markdown",
   "metadata": {
    "collapsed": false
   },
   "source": [
    "CVR: R1 = 0.5143, R2 = 0.004907"
   ]
  },
  {
   "cell_type": "code",
   "execution_count": 19,
   "metadata": {
    "collapsed": false
   },
   "outputs": [
   ],
   "source": [
    "R1 = 0.5143\n",
    "R2 = 0.004907\n",
    "print('peak current: {:,.0f} amps'.format(peak/R2))\n",
    "print('peak voltage across the CVR: {:,.0f} volts'.format((R1+R2)*peak/R2))"
   ]
  },
  {
   "cell_type": "code",
   "execution_count": 0,
   "metadata": {
    "collapsed": false
   },
   "outputs": [
   ],
   "source": [
   ]
  }
 ],
 "metadata": {
  "kernelspec": {
   "display_name": "Python 3 (Anaconda)",
   "language": "python",
   "name": "anaconda3"
  },
  "language_info": {
   "codemirror_mode": {
    "name": "ipython",
    "version": 3
   },
   "file_extension": ".py",
   "mimetype": "text/x-python",
   "name": "python",
   "nbconvert_exporter": "python",
   "pygments_lexer": "ipython3",
   "version": "3.5.4"
  }
 },
 "nbformat": 4,
 "nbformat_minor": 0
}