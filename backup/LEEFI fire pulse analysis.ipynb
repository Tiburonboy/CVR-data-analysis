{
 "cells": [
  {
   "cell_type": "markdown",
   "metadata": {
    "collapsed": false
   },
   "source": [
    "### LEEFI Fire pulse analysis"
   ]
  },
  {
   "cell_type": "code",
   "execution_count": 1,
   "metadata": {
    "collapsed": false
   },
   "outputs": [],
   "source": [
    "import os\n",
    "import pandas as pd\n",
    "import numpy as np\n",
    "#from scipy.interpolate import interp1d\n",
    "from scipy.signal import savgol_filter\n",
    "import matplotlib.pyplot as plt"
   ]
  },
  {
   "cell_type": "raw",
   "metadata": {
    "collapsed": false
   },
   "source": [
    "https://pandas.pydata.org/pandas-docs/stable/generated/pandas.read_csv.html\n",
    "\n",
    "You need to pass header=None and usecols=[3,6] for the 4th and 7th columns\n",
    "\n",
    "df = pd.read_csv(file_path, header=None, usecols=[0,6])"
   ]
  },
  {
   "cell_type": "code",
   "execution_count": 2,
   "metadata": {
    "collapsed": false
   },
   "outputs": [],
   "source": [
    "# read CSV, needed to edit the file to remove extra junk\n",
    "#csv1 = pd.read_csv('TEST1 800V FIRE.csv', header=None, usecols=[3,4])\n",
    "#csv1 = pd.read_csv('TEST1 800V FIRE.csv', usecols=[3,4])\n",
    "csv1 = pd.read_csv('TEST1 800V FIREa.csv')"
   ]
  },
  {
   "cell_type": "code",
   "execution_count": 3,
   "metadata": {
    "collapsed": false
   },
   "outputs": [],
   "source": [
    "time = csv1['Time'].values\n",
    "time = time.astype(float)\n",
    "voltage = csv1['Voltage'].values\n",
    "voltage = voltage.astype(float)"
   ]
  },
  {
   "cell_type": "code",
   "execution_count": 6,
   "metadata": {
    "collapsed": false
   },
   "outputs": [
    {
     "name": "stdout",
     "output_type": "stream",
     "text": [
      "number of points in the data set: 25,000\n",
      "peak voltage: 1.060\n"
     ]
    }
   ],
   "source": [
    "print('number of points in the data set: {:,d}'.format(len(voltage)))\n",
    "print('peak voltage: {:.3f}'.format(voltage.max()))"
   ]
  },
  {
   "cell_type": "markdown",
   "metadata": {},
   "source": [
    "plot the data to ckeck limits"
   ]
  },
  {
   "cell_type": "code",
   "execution_count": 51,
   "metadata": {
    "collapsed": false
   },
   "outputs": [],
   "source": [
    "peak_index = voltage.argmax()\n",
    "start = peak_index-2500\n",
    "end = peak_index+5000\n",
    "x = time[start:end]\n",
    "y = voltage[start:end]"
   ]
  },
  {
   "cell_type": "code",
   "execution_count": 53,
   "metadata": {
    "collapsed": false
   },
   "outputs": [],
   "source": [
    "# plot the fire pulse\n",
    "plt.plot(x,y,'ro', markersize=1)\n",
    "plt.xlabel('Time, sec')\n",
    "plt.ylabel('fire pulse, volts')\n",
    "plt.show()"
   ]
  },
  {
   "cell_type": "code",
   "execution_count": null,
   "metadata": {
    "collapsed": true
   },
   "outputs": [],
   "source": []
  },
  {
   "cell_type": "markdown",
   "metadata": {
    "collapsed": false
   },
   "source": [
    "### Find the offset voltage.\n",
    "From the peak time t, find the averge from t-300 to t-200."
   ]
  },
  {
   "cell_type": "code",
   "execution_count": 54,
   "metadata": {
    "collapsed": false
   },
   "outputs": [
    {
     "name": "stdout",
     "output_type": "stream",
     "text": [
      "voltage offset: -0.011 volts\n"
     ]
    }
   ],
   "source": [
    "peak_index = voltage.argmax()\n",
    "start = peak_index-3000\n",
    "end = peak_index-2500\n",
    "x = time[start:end]\n",
    "y = voltage[start:end]\n",
    "offset= y.mean()\n",
    "print('voltage offset: {:.3f} volts'.format(offset))"
   ]
  },
  {
   "cell_type": "code",
   "execution_count": 55,
   "metadata": {
    "collapsed": false
   },
   "outputs": [],
   "source": [
    "# plot base line data, pre pulse, with offset\n",
    "plt.plot(x,y,'ro', markersize=4)\n",
    "plt.xlabel('Time, nsec')\n",
    "plt.ylabel('Voltage')\n",
    "plt.legend(['data'], loc='best')\n",
    "plt.show()"
   ]
  },
  {
   "cell_type": "code",
   "execution_count": 56,
   "metadata": {
    "collapsed": false
   },
   "outputs": [],
   "source": [
    "start = peak_index-2500\n",
    "end = peak_index+5000\n",
    "x = time[start:end]\n",
    "y = voltage[start:end]\n",
    "y -= offset  #remove the offset"
   ]
  },
  {
   "cell_type": "markdown",
   "metadata": {
    "collapsed": false
   },
   "source": [
    "A [Savitzky–Golay](https://en.wikipedia.org/wiki/Savitzky%E2%80%93Golay_filter) filter is a digital filter that can be applied to a set of digital data points for the purpose of smoothing the data, that is, to increase the signal-to-noise ratio without greatly distorting the signal. This is achieved, in a process known as convolution, by fitting successive sub-sets of adjacent data points with a low-degree polynomial by the method of linear least squares. When the data points are equally spaced, an analytical solution to the least-squares equations can be found, in the form of a single set of \"convolution coefficients\" that can be applied to all data sub-sets, to give estimates of the smoothed signal, (or derivatives of the smoothed signal) at the central point of each sub-set. The method, based on established mathematical procedures, was popularized by Abraham Savitzky and Marcel J. E. Golay who published tables of convolution coefficients for various polynomials and sub-set sizes in 1964."
   ]
  },
  {
   "cell_type": "code",
   "execution_count": 57,
   "metadata": {
    "collapsed": false
   },
   "outputs": [],
   "source": [
    "ynew = savgol_filter(y, 51, 3)  # filter the data"
   ]
  },
  {
   "cell_type": "code",
   "execution_count": 59,
   "metadata": {
    "collapsed": false
   },
   "outputs": [],
   "source": [
    "# plot the fire pulse\n",
    "plt.plot(x,y,'ro', markersize=1)\n",
    "#plt.plot(x,ynew)\n",
    "plt.xlabel('Time, nsec')\n",
    "plt.ylabel('fire pulse, volts')\n",
    "plt.legend(['data'], loc='best')\n",
    "plt.show()"
   ]
  },
  {
   "cell_type": "markdown",
   "metadata": {
    "collapsed": false
   },
   "source": [
    "### find the following:\n",
    "1. peak voltage\n",
    "2. average pre pulse voltage level\n",
    "3. index of 90% of peak\n",
    "4. find 10% index\n",
    "5. calculate rise time\n",
    "6. calculate peak current"
   ]
  },
  {
   "cell_type": "code",
   "execution_count": 60,
   "metadata": {
    "collapsed": false
   },
   "outputs": [
    {
     "name": "stdout",
     "output_type": "stream",
     "text": [
      "peak voltage: 1.083\n",
      "index of peak: 2510.000\n"
     ]
    }
   ],
   "source": [
    "peak = y.max()\n",
    "peak_index = y.argmax()+10\n",
    "print('peak voltage: {:.3f}'.format(peak))\n",
    "print('index of peak: {:.3f}'.format(peak_index))"
   ]
  },
  {
   "cell_type": "markdown",
   "metadata": {
    "collapsed": false
   },
   "source": [
    "#### limit data set to index of peak"
   ]
  },
  {
   "cell_type": "code",
   "execution_count": 62,
   "metadata": {
    "collapsed": false
   },
   "outputs": [],
   "source": [
    "x1 = x[50:peak_index]-x[50]\n",
    "y1 = y[50:peak_index]\n",
    "\n",
    "# plot the fire pulse\n",
    "y1_fit = savgol_filter(y1, 51, 3)\n",
    "#plt.plot(x1,y1,'ro', markersize=1)\n",
    "plt.plot(x1,y1_fit)\n",
    "plt.xlabel('Time, nsec')\n",
    "plt.ylabel('fire pulse, volts')\n",
    "plt.legend(['Savitzky–Golay curve fit'], loc='best')\n",
    "plt.show()"
   ]
  },
  {
   "cell_type": "markdown",
   "metadata": {
    "collapsed": false
   },
   "source": [
    "#### find rise time"
   ]
  },
  {
   "cell_type": "code",
   "execution_count": 63,
   "metadata": {
    "collapsed": false
   },
   "outputs": [
    {
     "name": "stdout",
     "output_type": "stream",
     "text": [
      "peak voltage value: 1.077 volts\n",
      "90% voltage value: 0.969 volts at 178.400 ns\n",
      "10% voltage value: 0.108 volts at 103.040 ns\n",
      "rise time: 75.360 ns\n"
     ]
    }
   ],
   "source": [
    "index_90pc = (np.abs(y1_fit-y1_fit.max()*0.9)).argmin()\n",
    "index_10pc = (np.abs(y1_fit-y1_fit.max()*0.1)).argmin()\n",
    "rise_time = x1[index_90pc]-x1[index_10pc]\n",
    "\n",
    "print('peak voltage value: {:.3f} volts'.format(y1_fit.max()))\n",
    "print('90% voltage value: {:.3f} volts at {:.3f} ns'.format(y1_fit[index_90pc], x1[index_90pc]*1e9))\n",
    "print('10% voltage value: {:.3f} volts at {:.3f} ns'.format(y1_fit[index_10pc], x1[index_10pc]*1e9))\n",
    "print('rise time: {:.3f} ns'.format(rise_time*1e9))"
   ]
  },
  {
   "cell_type": "markdown",
   "metadata": {
    "collapsed": false
   },
   "source": [
    "#### plot the 90% and 10% data points"
   ]
  },
  {
   "cell_type": "code",
   "execution_count": 64,
   "metadata": {
    "collapsed": false
   },
   "outputs": [],
   "source": [
    "# plot the fire pulse\n",
    "#plt.plot(x1,y1,'ro', markersize=1)\n",
    "plt.plot(x1,y1_fit)\n",
    "plt.plot(x1[index_90pc],y1_fit[index_90pc],'x',markersize=15)  # 90% point\n",
    "plt.plot(x1[index_10pc],y1_fit[index_10pc],'x',markersize=15)  # 10% point\n",
    "plt.xlabel('Time, nsec')\n",
    "plt.ylabel('fire pulse, volts')\n",
    "plt.legend(['Savitzky–Golay curve fit','90%','10%'], loc='best')\n",
    "plt.show()"
   ]
  },
  {
   "cell_type": "code",
   "execution_count": 67,
   "metadata": {
    "collapsed": false
   },
   "outputs": [
    {
     "name": "stdout",
     "output_type": "stream",
     "text": [
      "peak current: 1,168 amps\n",
      "capacitor voltage: 800 volts\n"
     ]
    }
   ],
   "source": [
    "R1 = 5.462\n",
    "R2 = 0.005065\n",
    "print('peak current: {:,.0f} amps'.format(peak/(R2/R1)))\n",
    "print('capacitor voltage: {:,.0f} volts'.format(800))"
   ]
  },
  {
   "cell_type": "code",
   "execution_count": 0,
   "metadata": {
    "collapsed": false
   },
   "outputs": [],
   "source": []
  }
 ],
 "metadata": {
  "kernelspec": {
   "display_name": "Python 3",
   "language": "python",
   "name": "python3"
  },
  "language_info": {
   "codemirror_mode": {
    "name": "ipython",
    "version": 3
   },
   "file_extension": ".py",
   "mimetype": "text/x-python",
   "name": "python",
   "nbconvert_exporter": "python",
   "pygments_lexer": "ipython3",
   "version": "3.4.3"
  }
 },
 "nbformat": 4,
 "nbformat_minor": 0
}
